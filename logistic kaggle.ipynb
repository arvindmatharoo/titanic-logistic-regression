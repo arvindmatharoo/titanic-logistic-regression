{
 "cells": [
  {
   "cell_type": "markdown",
   "id": "d4c6e841-3264-45ea-92a2-5de2275a0d69",
   "metadata": {},
   "source": [
    "# TITANIC - LOGISTIC REGRESSION WITH GridSearchCV\n",
    "The following notebook performs logistic regression on the Kaggle Titanic Dataset including preprocessing, model training, Evaluation, Hyperparameter Tuning using GridSearchCV"
   ]
  },
  {
   "cell_type": "markdown",
   "id": "3f18395f-b365-405c-aec4-0b95d5623e37",
   "metadata": {},
   "source": [
    "This Notebook explores the titanic dataset from Kaggle to predict passenger survival using Logistic Regression \n",
    "The workflow includes :\n",
    "- Data Cleaning and preprocessing\n",
    "- Handling missing values\n",
    "- Feature engineering (encoding categorical variables)\n",
    "- Splitting data into training and testing sets\n",
    "- Building a Logistic Regression model\n",
    "- Hyperparameter Tuning using GridSearchCV\n",
    "- Model evaluation and interpretion of results\n",
    "\n",
    "The goal is to demonstrate a basic supervised Machine Learning workflow on a classic dataset"
   ]
  },
  {
   "cell_type": "code",
   "execution_count": null,
   "id": "03a03265-b7d0-4f8a-93b3-f74c3725d6db",
   "metadata": {},
   "outputs": [],
   "source": [
    "import pandas as pd \n",
    "import numpy as np \n",
    "import seaborn as sns "
   ]
  },
  {
   "cell_type": "code",
   "execution_count": null,
   "id": "c538027b-de94-4d6f-aa26-74dbe8888237",
   "metadata": {},
   "outputs": [],
   "source": [
    "df = pd.read_csv(\"Titanic-Dataset.csv\")\n",
    "df.head()"
   ]
  },
  {
   "cell_type": "code",
   "execution_count": null,
   "id": "a11334f1-eda9-44f2-8a8b-3dd2fbeacce1",
   "metadata": {},
   "outputs": [],
   "source": [
    "df['Age'].fillna(df['Age'].median(),inplace = True)\n",
    "df['Embarked'].fillna(df['Embarked'].mode()[0],inplace=True)\n",
    "df['Sex'] = df['Sex'].map({'male' : 0 ,'female':1})"
   ]
  },
  {
   "cell_type": "code",
   "execution_count": null,
   "id": "bdf7fb57-7d3b-49ab-ac7f-03cac9ed129b",
   "metadata": {},
   "outputs": [],
   "source": [
    "df = pd.get_dummies(df,columns=['Embarked'],drop_first =True)"
   ]
  },
  {
   "cell_type": "code",
   "execution_count": null,
   "id": "745e17f6-8eb6-4a73-8736-435562b5d748",
   "metadata": {},
   "outputs": [],
   "source": [
    "y =df['Survived']\n",
    "X = df[['Pclass','Sex','Age','SibSp','Parch','Fare','Embarked_Q','Embarked_S']]"
   ]
  },
  {
   "cell_type": "code",
   "execution_count": null,
   "id": "4a65a690-dcbc-4834-bd74-2a4c57504c21",
   "metadata": {},
   "outputs": [],
   "source": [
    "from sklearn.model_selection import train_test_split"
   ]
  },
  {
   "cell_type": "code",
   "execution_count": null,
   "id": "c88643f9-7a21-45ff-9e68-c45ef8bdaaf4",
   "metadata": {},
   "outputs": [],
   "source": [
    "X_train,X_test,y_train,y_test = train_test_split(X,y,test_size =0.3,random_state = 42)"
   ]
  },
  {
   "cell_type": "code",
   "execution_count": null,
   "id": "d2afc42e-c0bf-47df-84db-e16a4e6afc9f",
   "metadata": {},
   "outputs": [],
   "source": [
    "from sklearn.linear_model import LogisticRegression \n",
    "classifier = LogisticRegression()"
   ]
  },
  {
   "cell_type": "code",
   "execution_count": null,
   "id": "297e7400-e584-480f-b41d-e07dec046c6c",
   "metadata": {},
   "outputs": [],
   "source": [
    "classifier.fit(X_train,y_train)"
   ]
  },
  {
   "cell_type": "code",
   "execution_count": null,
   "id": "c3eb13dc-e3e0-443f-88a1-d669ef51fdd4",
   "metadata": {},
   "outputs": [],
   "source": [
    "from sklearn.model_selection import GridSearchCV\n",
    "parameter = {'penalty':['l2','l1','elastic'] ,'C':[1,2,3,4,10],'max_iter':[100,200,300]}"
   ]
  },
  {
   "cell_type": "code",
   "execution_count": null,
   "id": "3243fceb-f7c9-4116-9dc5-36aed13bab69",
   "metadata": {},
   "outputs": [],
   "source": [
    "classifier_pgrm=GridSearchCV(classifier,param_grid = parameter,scoring='accuracy',cv=5)"
   ]
  },
  {
   "cell_type": "code",
   "execution_count": null,
   "id": "faf2f3ea-b83f-4577-a836-e5a0a5b8754a",
   "metadata": {},
   "outputs": [],
   "source": [
    "classifier_pgrm.fit(X_train,y_train)"
   ]
  },
  {
   "cell_type": "code",
   "execution_count": null,
   "id": "e671acbd-60ce-4001-9cb8-a1755a419a62",
   "metadata": {},
   "outputs": [],
   "source": [
    "classifier_pgrm.best_params_"
   ]
  },
  {
   "cell_type": "code",
   "execution_count": null,
   "id": "871acd41-1bc8-44e2-b27d-981fb4dfdff5",
   "metadata": {},
   "outputs": [],
   "source": [
    "classifier_pgrm.best_score_"
   ]
  },
  {
   "cell_type": "code",
   "execution_count": null,
   "id": "e3bf80e6-7f91-4c38-9ab0-3a4879e9e7bf",
   "metadata": {},
   "outputs": [],
   "source": [
    "y_pred = classifier_pgrm.predict(X_test)"
   ]
  },
  {
   "cell_type": "code",
   "execution_count": null,
   "id": "49222c4e-ff74-48e8-9551-eb885e58771a",
   "metadata": {},
   "outputs": [],
   "source": [
    "from sklearn.metrics import accuracy_score,classification_report\n",
    "score = accuracy_score(y_pred,y_test)\n",
    "score"
   ]
  },
  {
   "cell_type": "code",
   "execution_count": null,
   "id": "c0ffcf79-c4d5-46e1-a19f-0f8df230dc8a",
   "metadata": {},
   "outputs": [],
   "source": [
    "print(classification_report(y_pred,y_test))"
   ]
  },
  {
   "cell_type": "code",
   "execution_count": null,
   "id": "87796b49-0fdd-49da-8bea-29904611cba4",
   "metadata": {},
   "outputs": [],
   "source": [
    "sns.pairplot(df,hue='Survived')"
   ]
  },
  {
   "cell_type": "markdown",
   "id": "22d6c809-017f-4d37-90e9-c5c0126aea13",
   "metadata": {},
   "source": [
    "# Conclusion\n",
    "\n",
    "In this notebook, we applied **Logistic Regression** to the Titanic dataset to predict passenger survival.\n",
    "\n",
    "Key steps:\n",
    "\n",
    "- We handled missing data and encoded categorical features.\n",
    "- We used **train-test split** to evaluate model performance.\n",
    "- We used **GridSearchCV** to optimize model hyperparameters.\n",
    "- The final model achieved a reasonable accuracy on the test set.\n",
    "\n",
    "### Possible Improvements:\n",
    "\n",
    "- Try more advanced models (Random Forest, XGBoost, etc.)\n",
    "- Perform more extensive feature engineering.\n",
    "- Use cross-validation with more folds for better generalization.\n",
    "- Visualize feature importance.\n",
    "\n",
    "### Summary:\n",
    "\n",
    "This project serves as a simple end-to-end demonstration of a **supervised machine learning pipeline** with Logistic Regression on a well-known dataset. It can be extended further to improve both performance and interpretability.\n"
   ]
  },
  {
   "cell_type": "code",
   "execution_count": null,
   "id": "681eb5d5-04d0-4d3f-86ca-a4c172a5cbc1",
   "metadata": {},
   "outputs": [],
   "source": []
  }
 ],
 "metadata": {
  "kernelspec": {
   "display_name": "Python 3 (ipykernel)",
   "language": "python",
   "name": "python3"
  },
  "language_info": {
   "codemirror_mode": {
    "name": "ipython",
    "version": 3
   },
   "file_extension": ".py",
   "mimetype": "text/x-python",
   "name": "python",
   "nbconvert_exporter": "python",
   "pygments_lexer": "ipython3",
   "version": "3.12.7"
  }
 },
 "nbformat": 4,
 "nbformat_minor": 5
}
